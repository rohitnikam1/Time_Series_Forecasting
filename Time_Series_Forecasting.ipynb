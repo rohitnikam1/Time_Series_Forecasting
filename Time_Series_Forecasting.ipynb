{
  "nbformat": 4,
  "nbformat_minor": 0,
  "metadata": {
    "colab": {
      "name": "Time_Series_Forecasting.ipynb",
      "provenance": [],
      "collapsed_sections": [],
      "authorship_tag": "ABX9TyPWDrn5HzvlIJrXCRcKz7y+",
      "include_colab_link": true
    },
    "kernelspec": {
      "name": "python3",
      "display_name": "Python 3"
    },
    "language_info": {
      "name": "python"
    }
  },
  "cells": [
    {
      "cell_type": "markdown",
      "metadata": {
        "id": "view-in-github",
        "colab_type": "text"
      },
      "source": [
        "<a href=\"https://colab.research.google.com/github/rohitnikam1/Time_Series_Forecasting/blob/master/Time_Series_Forecasting.ipynb\" target=\"_parent\"><img src=\"https://colab.research.google.com/assets/colab-badge.svg\" alt=\"Open In Colab\"/></a>"
      ]
    },
    {
      "cell_type": "markdown",
      "metadata": {
        "id": "rkfNHvNNpMU3"
      },
      "source": [
        "# Import relevant packages"
      ]
    },
    {
      "cell_type": "markdown",
      "metadata": {
        "id": "onOHtOVdpTAT"
      },
      "source": [
        "Ideally, one should set up their own virtual environment and determine the versions of each library that they are using. Here, we will assume that the colaboratory environment has some shared environment with access to common python libraries and the ability to install other required libraries."
      ]
    },
    {
      "cell_type": "code",
      "metadata": {
        "colab": {
          "base_uri": "https://localhost:8080/"
        },
        "id": "ksraxLHklfr0",
        "outputId": "e45ab363-eb1d-4242-de06-de3ac7a3109b"
      },
      "source": [
        "from google.colab import drive\n",
        "drive.mount('/content/drive')\n",
        "\n",
        "import pandas as pd\n",
        "import numpy as np\n",
        "from IPython.display import display, HTML, display_html\n",
        "import datetime\n",
        "import matplotlib.pyplot as plt\n",
        "%matplotlib inline \n",
        "import seaborn as sns\n",
        "sns.set()\n",
        "\n",
        "# Set formatting\n",
        "pd.set_option('display.max_columns', 100)\n",
        "pd.set_option('display.max_rows', 100)"
      ],
      "execution_count": 1,
      "outputs": [
        {
          "output_type": "stream",
          "name": "stdout",
          "text": [
            "Drive already mounted at /content/drive; to attempt to forcibly remount, call drive.mount(\"/content/drive\", force_remount=True).\n"
          ]
        }
      ]
    },
    {
      "cell_type": "code",
      "metadata": {
        "id": "W9Et9HJ2oGdN"
      },
      "source": [
        "path = '/content/drive/MyDrive/Colab_Notebooks/Time_Series_Forcasting/reviews.csv'"
      ],
      "execution_count": 2,
      "outputs": []
    },
    {
      "cell_type": "markdown",
      "metadata": {
        "id": "QwbEzLd_qoKq"
      },
      "source": [
        "## Read data"
      ]
    },
    {
      "cell_type": "code",
      "metadata": {
        "id": "z8i3KeRPokda"
      },
      "source": [
        "df = pd.read_csv(path)"
      ],
      "execution_count": 3,
      "outputs": []
    },
    {
      "cell_type": "markdown",
      "metadata": {
        "id": "KTg9LKXhq6BI"
      },
      "source": [
        "## Looking at data"
      ]
    },
    {
      "cell_type": "code",
      "metadata": {
        "colab": {
          "base_uri": "https://localhost:8080/",
          "height": 705
        },
        "id": "KyCqRoMYo4bg",
        "outputId": "fb2d2498-6ddf-4602-f640-7323f37f204f"
      },
      "source": [
        "# look at the data\n",
        "display(df.head())\n",
        "\n",
        "# look at the shape of the data\n",
        "display(df.shape)\n",
        "\n",
        "# look at the datatypes\n",
        "display(df.dtypes)\n",
        "\n",
        "# see if any columns have nulls\n",
        "display(df.isnull().any())\n",
        "\n",
        "# display descriptive statistics\n",
        "display(df.describe(percentiles=[0.25, 0.5, 0.75, 0.85, 0.95, 0.99]))"
      ],
      "execution_count": 4,
      "outputs": [
        {
          "output_type": "display_data",
          "data": {
            "text/html": [
              "<div>\n",
              "<style scoped>\n",
              "    .dataframe tbody tr th:only-of-type {\n",
              "        vertical-align: middle;\n",
              "    }\n",
              "\n",
              "    .dataframe tbody tr th {\n",
              "        vertical-align: top;\n",
              "    }\n",
              "\n",
              "    .dataframe thead th {\n",
              "        text-align: right;\n",
              "    }\n",
              "</style>\n",
              "<table border=\"1\" class=\"dataframe\">\n",
              "  <thead>\n",
              "    <tr style=\"text-align: right;\">\n",
              "      <th></th>\n",
              "      <th>listing_id</th>\n",
              "      <th>date</th>\n",
              "    </tr>\n",
              "  </thead>\n",
              "  <tbody>\n",
              "    <tr>\n",
              "      <th>0</th>\n",
              "      <td>2015</td>\n",
              "      <td>2016-04-11</td>\n",
              "    </tr>\n",
              "    <tr>\n",
              "      <th>1</th>\n",
              "      <td>2015</td>\n",
              "      <td>2016-04-15</td>\n",
              "    </tr>\n",
              "    <tr>\n",
              "      <th>2</th>\n",
              "      <td>2015</td>\n",
              "      <td>2016-04-26</td>\n",
              "    </tr>\n",
              "    <tr>\n",
              "      <th>3</th>\n",
              "      <td>2015</td>\n",
              "      <td>2016-05-10</td>\n",
              "    </tr>\n",
              "    <tr>\n",
              "      <th>4</th>\n",
              "      <td>2015</td>\n",
              "      <td>2016-05-14</td>\n",
              "    </tr>\n",
              "  </tbody>\n",
              "</table>\n",
              "</div>"
            ],
            "text/plain": [
              "   listing_id        date\n",
              "0        2015  2016-04-11\n",
              "1        2015  2016-04-15\n",
              "2        2015  2016-04-26\n",
              "3        2015  2016-05-10\n",
              "4        2015  2016-05-14"
            ]
          },
          "metadata": {}
        },
        {
          "output_type": "display_data",
          "data": {
            "text/plain": [
              "(416766, 2)"
            ]
          },
          "metadata": {}
        },
        {
          "output_type": "display_data",
          "data": {
            "text/plain": [
              "listing_id     int64\n",
              "date          object\n",
              "dtype: object"
            ]
          },
          "metadata": {}
        },
        {
          "output_type": "display_data",
          "data": {
            "text/plain": [
              "listing_id    False\n",
              "date          False\n",
              "dtype: bool"
            ]
          },
          "metadata": {}
        },
        {
          "output_type": "display_data",
          "data": {
            "text/html": [
              "<div>\n",
              "<style scoped>\n",
              "    .dataframe tbody tr th:only-of-type {\n",
              "        vertical-align: middle;\n",
              "    }\n",
              "\n",
              "    .dataframe tbody tr th {\n",
              "        vertical-align: top;\n",
              "    }\n",
              "\n",
              "    .dataframe thead th {\n",
              "        text-align: right;\n",
              "    }\n",
              "</style>\n",
              "<table border=\"1\" class=\"dataframe\">\n",
              "  <thead>\n",
              "    <tr style=\"text-align: right;\">\n",
              "      <th></th>\n",
              "      <th>listing_id</th>\n",
              "    </tr>\n",
              "  </thead>\n",
              "  <tbody>\n",
              "    <tr>\n",
              "      <th>count</th>\n",
              "      <td>4.167660e+05</td>\n",
              "    </tr>\n",
              "    <tr>\n",
              "      <th>mean</th>\n",
              "      <td>1.582541e+07</td>\n",
              "    </tr>\n",
              "    <tr>\n",
              "      <th>std</th>\n",
              "      <td>1.278406e+07</td>\n",
              "    </tr>\n",
              "    <tr>\n",
              "      <th>min</th>\n",
              "      <td>2.015000e+03</td>\n",
              "    </tr>\n",
              "    <tr>\n",
              "      <th>25%</th>\n",
              "      <td>4.027713e+06</td>\n",
              "    </tr>\n",
              "    <tr>\n",
              "      <th>50%</th>\n",
              "      <td>1.409896e+07</td>\n",
              "    </tr>\n",
              "    <tr>\n",
              "      <th>75%</th>\n",
              "      <td>2.432991e+07</td>\n",
              "    </tr>\n",
              "    <tr>\n",
              "      <th>85%</th>\n",
              "      <td>3.037347e+07</td>\n",
              "    </tr>\n",
              "    <tr>\n",
              "      <th>95%</th>\n",
              "      <td>3.994176e+07</td>\n",
              "    </tr>\n",
              "    <tr>\n",
              "      <th>99%</th>\n",
              "      <td>4.886878e+07</td>\n",
              "    </tr>\n",
              "    <tr>\n",
              "      <th>max</th>\n",
              "      <td>5.227487e+07</td>\n",
              "    </tr>\n",
              "  </tbody>\n",
              "</table>\n",
              "</div>"
            ],
            "text/plain": [
              "         listing_id\n",
              "count  4.167660e+05\n",
              "mean   1.582541e+07\n",
              "std    1.278406e+07\n",
              "min    2.015000e+03\n",
              "25%    4.027713e+06\n",
              "50%    1.409896e+07\n",
              "75%    2.432991e+07\n",
              "85%    3.037347e+07\n",
              "95%    3.994176e+07\n",
              "99%    4.886878e+07\n",
              "max    5.227487e+07"
            ]
          },
          "metadata": {}
        }
      ]
    },
    {
      "cell_type": "markdown",
      "metadata": {
        "id": "KQLJtE2JrNXq"
      },
      "source": [
        "## **What are some questions that can be answered with this data?**\n",
        "- Understand the limitations of your data. It is important to know what potential questions can be answered by the data. These questions can reduce, expand or modify the scope of the project.<d>\n",
        "- If the scope or goal for the project is defined before digging into the data, this is a good time to revisit it.\n",
        "\n",
        "- **Questions that can be answered**\n",
        " - Forcast future number of reviews for the Berlin area.\n",
        " - Forcast the future number of reviews for specific listings in the Berlin Area.\n",
        "\n",
        "## **What techniques may help answer these questions?**\n",
        "### **Statistical Models**\n",
        "- **Ignore the time-series aspect completely and model using traditional statistical modelling toolbox** (not the best idea, since the inherent time-series order and structure is not leveraged)\n",
        " - Ex.: Regression based models\n",
        "- **Univariate statistical time-series modelling**\n",
        "  - Ex.: Averaging and smoothing models, ARIMA models\n",
        "- **Slight modifications to univariate statistical time-series modelling**\n",
        " - Ex.: External regressors, multivariate models\n",
        "- **Additive or component models**\n",
        " - Ex.: Facebook Prophet package (good for quick estimate of forecast)\n",
        "- **Structural time-series modelling**\n",
        " - Ex.: Bayesian structural time-series modelling, hierarchical time-series modelling\n",
        "\n",
        "### **Machine learning models**\n",
        "- **Ignore the time-series aspect completely and model using traditional machine learning modelling toolbox**\n",
        " - Ex.: Support Vector Machines (SVMs), Random Forest Regression, Gradient-boosted Decision Trees (GBDTs)\n",
        "- **Hidden Markov models (HMMs)**\n",
        "- **Other sequence based models**\n",
        "- **Gaussian processes**\n",
        "- **Recurrent neural networks (RNNs)**\n",
        "\n",
        "### **Additional data considerations before choosing a model**\n",
        "- Whether or not to incorporat external data**\n",
        "- Whether or not to keep as univariate or multivariate (i.e. which features and number of features)\n",
        "- Outlier detection and removal\n",
        "- Missing value imputation"
      ]
    },
    {
      "cell_type": "markdown",
      "metadata": {
        "id": "nb1G9fzFt_bt"
      },
      "source": [
        "## **Let's analyse some time-series data!**\n",
        "### **Process the data**"
      ]
    },
    {
      "cell_type": "code",
      "metadata": {
        "colab": {
          "base_uri": "https://localhost:8080/",
          "height": 427
        },
        "id": "ZhKqN9hO_Anm",
        "outputId": "66dd3a35-33ad-4ad1-fede-31ef090dc394"
      },
      "source": [
        "# Rename columns\n",
        "df = df.rename(columns={'date': 'ds', 'listing_id': 'ts'})\n",
        "display(df.head())\n",
        "\n",
        "# Change index to datetime\n",
        "df['ds'] = pd.to_datetime(df['ds'])\n",
        "\n",
        "# Set index as date\n",
        "df.set_index('ds', inplace=True)\n",
        "\n",
        "# Group data by number of listings per date\n",
        "df_example = df.groupby(by = 'ds').agg({'ts': 'count'})\n",
        "\n",
        "# Set frequency of time-series\n",
        "df_example = df_example.asfreq(freq = '1D')\n",
        "\n",
        "# Sort the values\n",
        "df_example =  df_example.sort_index(ascending = True)\n",
        "\n",
        "# Fill NaN values with zero\n",
        "df_example = df_example.fillna(value = 0)\n",
        "\n",
        "# Show the end of the data\n",
        "display(df_example.tail())"
      ],
      "execution_count": 5,
      "outputs": [
        {
          "output_type": "display_data",
          "data": {
            "text/html": [
              "<div>\n",
              "<style scoped>\n",
              "    .dataframe tbody tr th:only-of-type {\n",
              "        vertical-align: middle;\n",
              "    }\n",
              "\n",
              "    .dataframe tbody tr th {\n",
              "        vertical-align: top;\n",
              "    }\n",
              "\n",
              "    .dataframe thead th {\n",
              "        text-align: right;\n",
              "    }\n",
              "</style>\n",
              "<table border=\"1\" class=\"dataframe\">\n",
              "  <thead>\n",
              "    <tr style=\"text-align: right;\">\n",
              "      <th></th>\n",
              "      <th>ts</th>\n",
              "      <th>ds</th>\n",
              "    </tr>\n",
              "  </thead>\n",
              "  <tbody>\n",
              "    <tr>\n",
              "      <th>0</th>\n",
              "      <td>2015</td>\n",
              "      <td>2016-04-11</td>\n",
              "    </tr>\n",
              "    <tr>\n",
              "      <th>1</th>\n",
              "      <td>2015</td>\n",
              "      <td>2016-04-15</td>\n",
              "    </tr>\n",
              "    <tr>\n",
              "      <th>2</th>\n",
              "      <td>2015</td>\n",
              "      <td>2016-04-26</td>\n",
              "    </tr>\n",
              "    <tr>\n",
              "      <th>3</th>\n",
              "      <td>2015</td>\n",
              "      <td>2016-05-10</td>\n",
              "    </tr>\n",
              "    <tr>\n",
              "      <th>4</th>\n",
              "      <td>2015</td>\n",
              "      <td>2016-05-14</td>\n",
              "    </tr>\n",
              "  </tbody>\n",
              "</table>\n",
              "</div>"
            ],
            "text/plain": [
              "     ts          ds\n",
              "0  2015  2016-04-11\n",
              "1  2015  2016-04-15\n",
              "2  2015  2016-04-26\n",
              "3  2015  2016-05-10\n",
              "4  2015  2016-05-14"
            ]
          },
          "metadata": {}
        },
        {
          "output_type": "display_data",
          "data": {
            "text/html": [
              "<div>\n",
              "<style scoped>\n",
              "    .dataframe tbody tr th:only-of-type {\n",
              "        vertical-align: middle;\n",
              "    }\n",
              "\n",
              "    .dataframe tbody tr th {\n",
              "        vertical-align: top;\n",
              "    }\n",
              "\n",
              "    .dataframe thead th {\n",
              "        text-align: right;\n",
              "    }\n",
              "</style>\n",
              "<table border=\"1\" class=\"dataframe\">\n",
              "  <thead>\n",
              "    <tr style=\"text-align: right;\">\n",
              "      <th></th>\n",
              "      <th>ts</th>\n",
              "    </tr>\n",
              "    <tr>\n",
              "      <th>ds</th>\n",
              "      <th></th>\n",
              "    </tr>\n",
              "  </thead>\n",
              "  <tbody>\n",
              "    <tr>\n",
              "      <th>2021-09-25</th>\n",
              "      <td>0.0</td>\n",
              "    </tr>\n",
              "    <tr>\n",
              "      <th>2021-09-26</th>\n",
              "      <td>1.0</td>\n",
              "    </tr>\n",
              "    <tr>\n",
              "      <th>2021-09-27</th>\n",
              "      <td>1.0</td>\n",
              "    </tr>\n",
              "    <tr>\n",
              "      <th>2021-09-28</th>\n",
              "      <td>1.0</td>\n",
              "    </tr>\n",
              "    <tr>\n",
              "      <th>2021-09-29</th>\n",
              "      <td>1.0</td>\n",
              "    </tr>\n",
              "  </tbody>\n",
              "</table>\n",
              "</div>"
            ],
            "text/plain": [
              "             ts\n",
              "ds             \n",
              "2021-09-25  0.0\n",
              "2021-09-26  1.0\n",
              "2021-09-27  1.0\n",
              "2021-09-28  1.0\n",
              "2021-09-29  1.0"
            ]
          },
          "metadata": {}
        }
      ]
    },
    {
      "cell_type": "code",
      "metadata": {
        "colab": {
          "base_uri": "https://localhost:8080/",
          "height": 301
        },
        "id": "AAGryVqXAiQu",
        "outputId": "830127eb-f8ea-4490-b612-6d6acc6e0b57"
      },
      "source": [
        "# Plot time-series data\n",
        "f, ax = plt.subplots(1,1)\n",
        "ax.plot(df_example['ts'])\n",
        "\n",
        "# Add title\n",
        "ax.set_title('Time-series graph')\n",
        "\n",
        "# Rotate x-labels\n",
        "ax.tick_params(axis = 'x', rotation = 45)\n",
        "\n",
        "plt.show()\n",
        "plt.close()"
      ],
      "execution_count": 6,
      "outputs": [
        {
          "output_type": "display_data",
          "data": {
            "image/png": "[encoded data removed]",
            "text/plain": [
              "<Figure size 432x288 with 1 Axes>"
            ]
          },
          "metadata": {
            "needs_background": "light"
          }
        }
      ]
    },
    {
      "cell_type": "markdown",
      "metadata": {
        "id": "Ax7S9JqKe4gF"
      },
      "source": [
        "- There does seem to be an overall increasing trend.\n",
        "- Variance seems to be changing over time\n",
        "- There may be some seasonality in the data.\n",
        "- Not sure about outliers."
      ]
    },
    {
      "cell_type": "markdown",
      "metadata": {
        "id": "mSF3gdZafULP"
      },
      "source": [
        "## **Look at Stationarity**\n",
        "Most time-series models assume that the underlying time-series data is **stationary**. This assumption gives us some nice statistical properties that allows us to use various forecasting models.\n",
        "\n",
        "**Stationarity** is a statistical assumption that a time-series has\n",
        " - **Constant mean**\n",
        " - **Constant variance**\n",
        " - **Autocovariance is time independent**\n",
        "More simply put, if we are using past data to predict future data, we should assume that the data will follow the same general trends as in the past. This general statement hold true for most training data and modelling tasks.\n",
        "\n",
        "Sometimes we need to transform the data to make it stationary. However, this transformation then calls into question if the data is truly stationary and is suited to be modelled using these techniques.\n"
      ]
    },
    {
      "cell_type": "code",
      "metadata": {
        "id": "gs0aYtnziXwr"
      },
      "source": [
        "from statsmodels.tsa.stattools import adfuller\n",
        "def test_stationarity(df, ts):\n",
        "  '''\n",
        "  Test stationarity using moving average statistics and Dickey-Fuller test\n",
        "  Source: https://www.analyticsvidhya.com/blog/2016/02/time-series-forecasting-codes-python/\n",
        "  '''\n",
        "\n",
        "  # Determine rolling statistics\n",
        "  rollmean = df[ts].rolling(window=12, center = False).mean()\n",
        "  rollstd  = df[ts].rolling(window=12, center = False).std()\n",
        "\n",
        "  # Plot rolling statistics\n",
        "  orig = plt.plot(df[ts], color='blue', label = 'Original')\n",
        "  mean = plt.plot(rollmean, color='red', label = 'Rolling mean')\n",
        "  std = plt.plot(rollstd, color='black', label = 'Rolling std')\n",
        "  plt.legend(loc = 'best')\n",
        "  plt.title(f'Rolling Mean and Standard Deviation for {ts}')\n",
        "  plt.xticks(rotation = 45)\n",
        "  plt.show(block = False)\n",
        "  plt.close()\n",
        "\n",
        "  # Perform Dickey-Fuller Test\n",
        "  # Null Hypothesis      (H_0): Time-series is NOT stationary.\n",
        "  # Alternate Hypothesis (H_1): Time-series IS stationary.\n",
        "  print('Results of Dickey-Fuller Test')\n",
        "  dftest = adfuller(df[ts], autolag = 'AIC')\n",
        "  dfoutput = pd.Series(dftest[:4], index = ['Test Statistic', 'p-value', '# Lags used', '# Observations used'])\n",
        "  for key, value in dftest[4].items():\n",
        "    dfoutput[f'Critical Value {key}'] = value\n",
        "  print(dfoutput)"
      ],
      "execution_count": 9,
      "outputs": []
    },
    {
      "cell_type": "code",
      "metadata": {
        "colab": {
          "base_uri": "https://localhost:8080/",
          "height": 457
        },
        "id": "BKvNVROCmnEG",
        "outputId": "843cd657-0c73-4c78-b217-34bbce843430"
      },
      "source": [
        "test_stationarity(df = df_example, ts = 'ts')"
      ],
      "execution_count": 10,
      "outputs": [
        {
          "output_type": "display_data",
          "data": {
            "image/png": "[encoded data removed]",
            "text/plain": [
              "<Figure size 432x288 with 1 Axes>"
            ]
          },
          "metadata": {
            "needs_background": "light"
          }
        },
        {
          "output_type": "stream",
          "name": "stdout",
          "text": [
            "Results of Dickey-Fuller Test\n",
            "Test Statistic           -2.633356\n",
            "p-value                   0.086297\n",
            "# Lags used              28.000000\n",
            "# Observations used    4456.000000\n",
            "Critical Value 1%        -3.431818\n",
            "Critical Value 5%        -2.862189\n",
            "Critical Value 10%       -2.567115\n",
            "dtype: float64\n"
          ]
        }
      ]
    },
    {
      "cell_type": "markdown",
      "metadata": {
        "id": "DRi2rK_xmx-K"
      },
      "source": [
        "Rolling mean and standard deviation look like they change over time. There may be some de-trending and removing seasonality involved. Based in **Dickey-Fuller Test**, because $p=0.08$, we fail to reject the null hypothesis (that the time-series data is not stationary) at the $p=0.05$ level, thus concluding that we fail to reject the null hypothesis that our **time-series data is not stationary**."
      ]
    },
    {
      "cell_type": "markdown",
      "metadata": {
        "id": "y-z1tAqKoPm6"
      },
      "source": [
        "## **Corrections for Stationarity**\n",
        "It is common for the time-series to have to be corrected for stationarity.\n",
        "Two common reasons behind non-stationarity are:\n",
        " 1. **Trend**: mean is not constant over time\n",
        " 2. **Seasonality**: variance is not constant over time\n",
        "\n",
        " There are ways to correct for trend and seasonality, to make the time-series stationary.\n",
        "\n",
        " **What happens if you do not correct for these things?**\n",
        " Many things can happen, including:\n",
        "  - Variance can be mis-specified\n",
        "  - Model fit can be worse\n",
        "  - Not leveragin valuable time-dependent nature of the data.\n",
        "\n",
        "\n",
        "## **Eliminating Trend and Seasonality**\n",
        " - **Transformation**\n",
        "  - Ex.: Log, Square-root, etc.\n",
        " - **Soothing**\n",
        "  - Ex.: Weekly average, monthly average, rolling averages\n",
        " - **Differencing**\n",
        "  - Ex.: First-order differencing\n",
        " - **Polynomial Fitting**\n",
        "  - Ex.: Fit a regression model\n",
        " - **Decomposition**\n",
        "\n",
        " ## **Transformation, Smoothing and Differencing**\n",
        " **Looking at our data**\n",
        "  - Applying log transformation, weekly moving average smoothing and differencing made the data more stationary over time. Based on **Dickey-Fuller test**, because $p \\le 0.05$, we fail to reject the null hypothesis (that the time-series is not stationary) at the $p=0.05$ level, thus concluding that the **time series is stationary**."
      ]
    },
    {
      "cell_type": "code",
      "metadata": {
        "id": "nn7-0UllqRY_"
      },
      "source": [
        ""
      ],
      "execution_count": null,
      "outputs": []
    }
  ]
}